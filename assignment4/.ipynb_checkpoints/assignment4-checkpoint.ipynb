{
 "cells": [
  {
   "cell_type": "markdown",
   "metadata": {
    "deletable": false,
    "editable": false,
    "nbgrader": {
     "checksum": "48770f8b5f5d3062d3badd51fcafc401",
     "grade": false,
     "grade_id": "cell-a6c4f74309fc2379",
     "locked": true,
     "schema_version": 1,
     "solution": false
    }
   },
   "source": [
    "# Assignment 4\n",
    "## Description\n",
    "In this assignment you must read in a file of metropolitan regions and associated sports teams from [assets/wikipedia_data.html](assets/wikipedia_data.html) and answer some questions about each metropolitan region. Each of these regions may have one or more teams from the \"Big 4\": NFL (football, in [assets/nfl.csv](assets/nfl.csv)), MLB (baseball, in [assets/mlb.csv](assets/mlb.csv)), NBA (basketball, in [assets/nba.csv](assets/nba.csv) or NHL (hockey, in [assets/nhl.csv](assets/nhl.csv)). Please keep in mind that all questions are from the perspective of the metropolitan region, and that this file is the \"source of authority\" for the location of a given sports team. Thus teams which are commonly known by a different area (e.g. \"Oakland Raiders\") need to be mapped into the metropolitan region given (e.g. San Francisco Bay Area). This will require some human data understanding outside of the data you've been given (e.g. you will have to hand-code some names, and might need to google to find out where teams are)!\n",
    "\n",
    "For each sport I would like you to answer the question: **what is the win/loss ratio's correlation with the population of the city it is in?** Win/Loss ratio refers to the number of wins over the number of wins plus the number of losses. Remember that to calculate the correlation with [`pearsonr`](https://docs.scipy.org/doc/scipy/reference/generated/scipy.stats.pearsonr.html), so you are going to send in two ordered lists of values, the populations from the wikipedia_data.html file and the win/loss ratio for a given sport in the same order. Average the win/loss ratios for those cities which have multiple teams of a single sport. Each sport is worth an equal amount in this assignment (20%\\*4=80%) of the grade for this assignment. You should only use data **from year 2018** for your analysis -- this is important!\n",
    "\n",
    "## Notes\n",
    "\n",
    "1. Do not include data about the MLS or CFL in any of the work you are doing, we're only interested in the Big 4 in this assignment.\n",
    "2. I highly suggest that you first tackle the four correlation questions in order, as they are all similar and worth the majority of grades for this assignment. This is by design!\n",
    "3. It's fair game to talk with peers about high level strategy as well as the relationship between metropolitan areas and sports teams. However, do not post code solving aspects of the assignment (including such as dictionaries mapping areas to teams, or regexes which will clean up names).\n",
    "4. There may be more teams than the assert statements test, remember to collapse multiple teams in one city into a single value!"
   ]
  },
  {
   "cell_type": "markdown",
   "metadata": {
    "deletable": false,
    "editable": false,
    "nbgrader": {
     "checksum": "369ff9ecf0ee04640574205cbc697f94",
     "grade": false,
     "grade_id": "cell-712b2b5da63d4505",
     "locked": true,
     "schema_version": 1,
     "solution": false
    }
   },
   "source": [
    "## Question 1\n",
    "For this question, calculate the win/loss ratio's correlation with the population of the city it is in for the **NHL** using **2018** data."
   ]
  },
  {
   "cell_type": "code",
   "execution_count": 104,
   "metadata": {
    "deletable": false,
    "nbgrader": {
     "checksum": "1cac4803b02502929f5b1612d48db2b5",
     "grade": false,
     "grade_id": "cell-69b16e4386e58030",
     "locked": false,
     "schema_version": 1,
     "solution": true
    }
   },
   "outputs": [],
   "source": [
    "import pandas as pd\n",
    "import numpy as np\n",
    "import scipy.stats as stats\n",
    "import re\n",
    "\n",
    "nhl_df=pd.read_csv(\"assets/nhl.csv\")\n",
    "cities=pd.read_html(\"assets/wikipedia_data.html\")[1]\n",
    "cities=cities.iloc[:-1,[0,3,5,6,7,8]]\n",
    "\n",
    "def create_nhl():\n",
    "    nhlDict = {'Tampa Bay Lightning*':'Tampa Bay Area',\n",
    "            'Boston Bruins*':'Boston',\n",
    "            'Toronto Maple Leafs*':'Toronto',\n",
    "            'Florida Panthers':'Miami–Fort Lauderdale',\n",
    "            'Detroit Red Wings':'Detroit',\n",
    "            'Montreal Canadiens':'Montreal',\n",
    "            'Ottawa Senators':'Ottawa',\n",
    "            'Buffalo Sabres':'Buffalo',\n",
    "            'Washington Capitals*':'Washington, D.C.',\n",
    "            'Pittsburgh Penguins*':'Pittsburgh',\n",
    "            'Philadelphia Flyers*':'Philadelphia',\n",
    "            'Columbus Blue Jackets*':'Columbus',\n",
    "            'New Jersey Devils*':'New York City',\n",
    "            'Carolina Hurricanes':'Raleigh',\n",
    "            'New York Islanders':'New York City',\n",
    "            'New York Rangers':'New York City',\n",
    "            'Nashville Predators*':'Nashville',\n",
    "            'Winnipeg Jets*':'Winnipeg',   \n",
    "            'Minnesota Wild*':'Minneapolis–Saint Paul',\n",
    "            'Colorado Avalanche*':'Denver',\n",
    "            'St. Louis Blues':'St. Louis', \n",
    "            'Dallas Stars':'Dallas–Fort Worth',\n",
    "            'Chicago Blackhawks':'Chicago', \n",
    "            'Vegas Golden Knights*':'Las Vegas', \n",
    "            'Anaheim Ducks*':'Los Angeles',\n",
    "            'San Jose Sharks*':'San Francisco Bay Area', \n",
    "            'Los Angeles Kings*':'Los Angeles', \n",
    "            'Calgary Flames':'Calgary',\n",
    "            'Edmonton Oilers':'Edmonton', \n",
    "            'Vancouver Canucks':'Vancouver', \n",
    "            'Arizona Coyotes':'Phoenix'\n",
    "            }\n",
    "\n",
    "    nhl_df2018 = nhl_df[nhl_df['year'] == 2018].drop([0, 9, 18, 26], axis=0)\n",
    "    nhl_df2018 = nhl_df2018.astype({'GP':'int32', 'W':'float64', 'L':'float64', 'PTS':'int32', 'PTS%':'float64', 'GF':'int32',\n",
    "                                    'GA':'int32', 'SRS':'float64', 'SOS':'float64', 'RPt%':'float64', 'ROW':'int32'})\n",
    "    nhl_df2018['city'] = nhl_df2018['team'].map(nhlDict)\n",
    "    nhl_df2018['winLoss'] = nhl_df2018['W'] / (nhl_df2018['W'] + nhl_df2018['L'])\n",
    "\n",
    "    nhl2018C = nhl_df2018[['city', 'winLoss']].groupby('city').mean()\n",
    "\n",
    "    citiesPop = cities[['Metropolitan area', 'Population (2016 est.)[8]']] \\\n",
    "                        .set_index('Metropolitan area') \\\n",
    "                        .rename(columns={'Population (2016 est.)[8]': 'population'}) \\\n",
    "                        .astype({'population':'float64'})\n",
    "\n",
    "    nhlPopWinLoss = pd.merge(nhl2018C, citiesPop, how='left', left_index=True, right_index=True)\n",
    "    \n",
    "    return nhlPopWinLoss\n",
    "\n",
    "def nhl_correlation(): \n",
    "    nhlPopWinLoss = create_nhl()\n",
    "\n",
    "    population_by_region = nhlPopWinLoss['population'] # pass in metropolitan area population from cities\n",
    "    win_loss_by_region = nhlPopWinLoss['winLoss'] # pass in win/loss ratio from nhl_df in the same order as cities[\"Metropolitan area\"]\n",
    "\n",
    "    assert len(population_by_region) == len(win_loss_by_region), \"Q1: Your lists must be the same length\"\n",
    "    assert len(population_by_region) == 28, \"Q1: There should be 28 teams being analysed for NHL\"\n",
    "    \n",
    "    return stats.pearsonr(population_by_region, win_loss_by_region)[0]"
   ]
  },
  {
   "cell_type": "code",
   "execution_count": null,
   "metadata": {
    "deletable": false,
    "editable": false,
    "nbgrader": {
     "checksum": "52a581df513c71153e105b93764cda4b",
     "grade": true,
     "grade_id": "cell-ebe0b2dfe1067e63",
     "locked": true,
     "points": 20,
     "schema_version": 1,
     "solution": false
    }
   },
   "outputs": [],
   "source": []
  },
  {
   "cell_type": "markdown",
   "metadata": {
    "deletable": false,
    "editable": false,
    "nbgrader": {
     "checksum": "988912cae4968d81473f46d783e79c16",
     "grade": false,
     "grade_id": "cell-cb964e690298b71d",
     "locked": true,
     "schema_version": 1,
     "solution": false
    }
   },
   "source": [
    "## Question 2\n",
    "For this question, calculate the win/loss ratio's correlation with the population of the city it is in for the **NBA** using **2018** data."
   ]
  },
  {
   "cell_type": "code",
   "execution_count": 82,
   "metadata": {
    "deletable": false,
    "nbgrader": {
     "checksum": "9394222aafc8ccab0a228098ba0d6010",
     "grade": false,
     "grade_id": "cell-5a5f21279e3d3572",
     "locked": false,
     "schema_version": 1,
     "solution": true
    }
   },
   "outputs": [],
   "source": [
    "import pandas as pd\n",
    "import numpy as np\n",
    "import scipy.stats as stats\n",
    "import re\n",
    "\n",
    "nba_df=pd.read_csv(\"assets/nba.csv\")\n",
    "cities=pd.read_html(\"assets/wikipedia_data.html\")[1]\n",
    "cities=cities.iloc[:-1,[0,3,5,6,7,8]]\n",
    "\n",
    "def create_nba():\n",
    "    nbaDict = {'Cleveland Cavaliers*\\xa0(4)':'Cleveland',\n",
    "            'Boston Celtics*\\xa0(2)':'Boston',\n",
    "            'Toronto Raptors*\\xa0(1)':'Toronto',\n",
    "            'Miami Heat*\\xa0(6)':'Miami–Fort Lauderdale',\n",
    "            'Indiana Pacers*\\xa0(5)':'Indianapolis',\n",
    "            'Milwaukee Bucks*\\xa0(7)':'Milwaukee',\n",
    "            'Detroit Pistons\\xa0(9)':'Detroit',\n",
    "            'Charlotte Hornets\\xa0(10)':'Charlotte',\n",
    "            'Orlando Magic\\xa0(14)':'Orlando',\n",
    "            'Houston Rockets*\\xa0(1)':'Houston',\n",
    "            'Sacramento Kings\\xa0(12)':'Sacramento',\n",
    "            'Golden State Warriors*\\xa0(2)':'San Francisco Bay Area',\n",
    "            'Portland Trail Blazers*\\xa0(3)':'Portland',\n",
    "            'Oklahoma City Thunder*\\xa0(4)':'Oklahoma City',\n",
    "            'Atlanta Hawks\\xa0(15)':'Atlanta',\n",
    "            'Utah Jazz*\\xa0(5)':'Salt Lake City',\n",
    "            'Memphis Grizzlies\\xa0(14)': 'Memphis', \n",
    "            'New Orleans Pelicans*\\xa0(6)':'New Orleans',\n",
    "            'San Antonio Spurs*\\xa0(7)':'San Antonio',\n",
    "            'Minnesota Timberwolves*\\xa0(8)':'Minneapolis–Saint Paul',\n",
    "            'Denver Nuggets\\xa0(9)':'Denver',\n",
    "            'Washington Wizards*\\xa0(8)':'Washington, D.C.',\n",
    "            'Philadelphia 76ers*\\xa0(3)':'Philadelphia',\n",
    "            'Brooklyn Nets\\xa0(12)':'New York City',\n",
    "            'New York Knicks\\xa0(11)':'New York City',\n",
    "            'Dallas Mavericks\\xa0(13)':'Dallas–Fort Worth',\n",
    "            'Chicago Bulls\\xa0(13)':'Chicago', \n",
    "            'Los Angeles Lakers\\xa0(11)':'Los Angeles',\n",
    "            'Los Angeles Clippers\\xa0(10)':'Los Angeles', \n",
    "            'Phoenix Suns\\xa0(15)':'Phoenix'\n",
    "            }\n",
    "\n",
    "    nba2018 = nba_df[nba_df['year'] == 2018]\n",
    "    nba2018 = nba2018.replace('—', 0)\n",
    "    nba2018 = nba2018.astype({'W':'float64', 'L':'float64', 'W/L%':'float64', 'GB':'float64', 'PS/G':'float64',\n",
    "                              'PA/G':'float64', 'SRS':'float64'})\n",
    "    nba2018['city'] = nba2018['team'].map(nbaDict)\n",
    "    nba2018['winLoss'] = nba2018['W'] / (nba2018['W'] + nba2018['L'])\n",
    "\n",
    "    nba2018C = nba2018[['city', 'winLoss']].groupby('city').mean()\n",
    "\n",
    "    citiesPop = cities[['Metropolitan area', 'Population (2016 est.)[8]']] \\\n",
    "                            .set_index('Metropolitan area') \\\n",
    "                            .rename(columns={'Population (2016 est.)[8]': 'population'}) \\\n",
    "                            .astype({'population':'float64'})\n",
    "\n",
    "    nbaPopWinLoss = pd.merge(nba2018C, citiesPop, how='left', left_index=True, right_index=True)\n",
    "    \n",
    "    return nbaPopWinLoss\n",
    "\n",
    "def nba_correlation():\n",
    "    nbaPopWinLoss = create_nba()\n",
    "    \n",
    "    population_by_region = nbaPopWinLoss['population'] # pass in metropolitan area population from cities\n",
    "    win_loss_by_region = nbaPopWinLoss['winLoss'] # pass in win/loss ratio from nba_df in the same order as cities[\"Metropolitan area\"]\n",
    "\n",
    "    assert len(population_by_region) == len(win_loss_by_region), \"Q2: Your lists must be the same length\"\n",
    "    assert len(population_by_region) == 28, \"Q2: There should be 28 teams being analysed for NBA\"\n",
    "\n",
    "    return stats.pearsonr(population_by_region, win_loss_by_region)[0]"
   ]
  },
  {
   "cell_type": "code",
   "execution_count": null,
   "metadata": {
    "deletable": false,
    "editable": false,
    "nbgrader": {
     "checksum": "bbdeb8eb22f525a34c10dc8798324e42",
     "grade": true,
     "grade_id": "cell-e573b2b4a282b470",
     "locked": true,
     "points": 20,
     "schema_version": 1,
     "solution": false
    }
   },
   "outputs": [],
   "source": []
  },
  {
   "cell_type": "markdown",
   "metadata": {
    "deletable": false,
    "editable": false,
    "nbgrader": {
     "checksum": "1a1a5809f675ca033086422007cd73bd",
     "grade": false,
     "grade_id": "cell-96e15e4335df78f4",
     "locked": true,
     "schema_version": 1,
     "solution": false
    }
   },
   "source": [
    "## Question 3\n",
    "For this question, calculate the win/loss ratio's correlation with the population of the city it is in for the **MLB** using **2018** data."
   ]
  },
  {
   "cell_type": "code",
   "execution_count": 83,
   "metadata": {
    "deletable": false,
    "nbgrader": {
     "checksum": "27e8c0da6c9fa0dffc10488314335b6c",
     "grade": false,
     "grade_id": "cell-33b00fc3f3467b0c",
     "locked": false,
     "schema_version": 1,
     "solution": true
    }
   },
   "outputs": [],
   "source": [
    "import pandas as pd\n",
    "import numpy as np\n",
    "import scipy.stats as stats\n",
    "import re\n",
    "\n",
    "mlb_df=pd.read_csv(\"assets/mlb.csv\")\n",
    "cities=pd.read_html(\"assets/wikipedia_data.html\")[1]\n",
    "cities=cities.iloc[:-1,[0,3,5,6,7,8]]\n",
    "\n",
    "def create_mlb():\n",
    "    mlbDict = {'Boston Red Sox':'Boston', \n",
    "            'New York Yankees':'New York City', \n",
    "            'Tampa Bay Rays':'Tampa Bay Area',\n",
    "            'Toronto Blue Jays':'Toronto', \n",
    "            'Baltimore Orioles':'Baltimore', \n",
    "            'Cleveland Indians':'Cleveland',\n",
    "            'Minnesota Twins':'Minneapolis–Saint Paul', \n",
    "            'Detroit Tigers':'Detroit', \n",
    "            'Chicago White Sox':'Chicago',\n",
    "            'Kansas City Royals':'Kansas City', \n",
    "            'Houston Astros':'Houston', \n",
    "            'Oakland Athletics':'San Francisco Bay Area',\n",
    "            'Seattle Mariners':'Seattle', \n",
    "            'Los Angeles Angels':'Los Angeles', \n",
    "            'Texas Rangers':'Dallas–Fort Worth',\n",
    "            'Atlanta Braves':'Atlanta', \n",
    "            'Washington Nationals':'Washington, D.C.', \n",
    "            'Philadelphia Phillies':'Philadelphia',\n",
    "            'New York Mets':'New York City', \n",
    "            'Miami Marlins':'Miami–Fort Lauderdale', \n",
    "            'Milwaukee Brewers':'Milwaukee',\n",
    "            'Chicago Cubs':'Chicago', \n",
    "            'St. Louis Cardinals':'St. Louis', \n",
    "            'Pittsburgh Pirates':'Pittsburgh',\n",
    "            'Cincinnati Reds':'Cincinnati', \n",
    "            'Los Angeles Dodgers':'Los Angeles', \n",
    "            'Colorado Rockies':'Denver',\n",
    "            'Arizona Diamondbacks':'Phoenix', \n",
    "            'San Francisco Giants':'San Francisco Bay Area', \n",
    "            'San Diego Padres':'San Diego'\n",
    "            }\n",
    "\n",
    "\n",
    "    mlb2018 = mlb_df[mlb_df['year'] == 2018]\n",
    "    mlb2018 = mlb2018.replace('--', 0)\n",
    "    mlb2018 = mlb2018.astype({'W':'float64', 'L':'float64', 'W-L%':'float64', 'GB':'float64'})\n",
    "    mlb2018['city'] = mlb2018['team'].map(mlbDict)\n",
    "    mlb2018['winLoss'] = mlb2018['W'] / (mlb2018['W'] + mlb2018['L'])\n",
    "\n",
    "    mlb2018C = mlb2018[['city', 'winLoss']].groupby('city').mean()\n",
    "\n",
    "    citiesPop = cities[['Metropolitan area', 'Population (2016 est.)[8]']] \\\n",
    "                            .set_index('Metropolitan area') \\\n",
    "                            .rename(columns={'Population (2016 est.)[8]': 'population'}) \\\n",
    "                            .astype({'population':'float64'})\n",
    "\n",
    "    mlbPopWinLoss = pd.merge(mlb2018C, citiesPop, how='left', left_index=True, right_index=True)\n",
    "    \n",
    "    return mlbPopWinLoss\n",
    "    \n",
    "def mlb_correlation(): \n",
    "    mlbPopWinLoss = create_mlb()\n",
    "    \n",
    "    population_by_region = mlbPopWinLoss['population'] # pass in metropolitan area population from cities\n",
    "    win_loss_by_region = mlbPopWinLoss['winLoss'] # pass in win/loss ratio from mlb_df in the same order as cities[\"Metropolitan area\"]\n",
    "\n",
    "    assert len(population_by_region) == len(win_loss_by_region), \"Q3: Your lists must be the same length\"\n",
    "    assert len(population_by_region) == 26, \"Q3: There should be 26 teams being analysed for MLB\"\n",
    "\n",
    "    return stats.pearsonr(population_by_region, win_loss_by_region)[0]"
   ]
  },
  {
   "cell_type": "code",
   "execution_count": null,
   "metadata": {
    "deletable": false,
    "editable": false,
    "nbgrader": {
     "checksum": "cda33b094ba19ccc37a481e0dd29e0bc",
     "grade": true,
     "grade_id": "cell-764d4476f425c5a2",
     "locked": true,
     "points": 20,
     "schema_version": 1,
     "solution": false
    }
   },
   "outputs": [],
   "source": []
  },
  {
   "cell_type": "markdown",
   "metadata": {
    "deletable": false,
    "editable": false,
    "nbgrader": {
     "checksum": "6977a6da9ed6d8b7a0b7e37bbeda709b",
     "grade": false,
     "grade_id": "cell-793df6c04dfb126e",
     "locked": true,
     "schema_version": 1,
     "solution": false
    }
   },
   "source": [
    "## Question 4\n",
    "For this question, calculate the win/loss ratio's correlation with the population of the city it is in for the **NFL** using **2018** data."
   ]
  },
  {
   "cell_type": "code",
   "execution_count": 84,
   "metadata": {
    "deletable": false,
    "nbgrader": {
     "checksum": "c4914ad1e119278ec2bd567c52640b66",
     "grade": false,
     "grade_id": "cell-8ccebc209aeec8d9",
     "locked": false,
     "schema_version": 1,
     "solution": true
    }
   },
   "outputs": [],
   "source": [
    "import pandas as pd\n",
    "import numpy as np\n",
    "import scipy.stats as stats\n",
    "import re\n",
    "\n",
    "nfl_df=pd.read_csv(\"assets/nfl.csv\")\n",
    "cities=pd.read_html(\"assets/wikipedia_data.html\")[1]\n",
    "cities=cities.iloc[:-1,[0,3,5,6,7,8]]\n",
    "\n",
    "def create_nfl():\n",
    "    nflDict = {'New England Patriots*':'Boston', \n",
    "            'Miami Dolphins':'Miami–Fort Lauderdale', \n",
    "            'Buffalo Bills':'Buffalo',\n",
    "            'New York Jets':'New York City', \n",
    "            'Baltimore Ravens*':'Baltimore', \n",
    "            'Pittsburgh Steelers':'Pittsburgh',\n",
    "            'Cleveland Browns':'Cleveland', \n",
    "            'Cincinnati Bengals':'Cincinnati', \n",
    "            'Houston Texans*':'Houston',\n",
    "            'Indianapolis Colts+':'Indianapolis', \n",
    "            'Tennessee Titans':'Nashville', \n",
    "            'Jacksonville Jaguars':'Jacksonville',\n",
    "            'Kansas City Chiefs*':'Kansas City', \n",
    "            'Los Angeles Chargers+':'Los Angeles', \n",
    "            'Denver Broncos':'Denver',\n",
    "            'Oakland Raiders':'San Francisco Bay Area', \n",
    "            'Dallas Cowboys*':'Dallas–Fort Worth', \n",
    "            'Philadelphia Eagles+':'Philadelphia',\n",
    "            'Washington Redskins':'Washington, D.C.', \n",
    "            'New York Giants':'New York City', \n",
    "            'Chicago Bears*':'Chicago',\n",
    "            'Minnesota Vikings':'Minneapolis–Saint Paul', \n",
    "            'Green Bay Packers':'Green Bay', \n",
    "            'Detroit Lions':'Detroit',\n",
    "            'New Orleans Saints*':'New Orleans', \n",
    "            'Carolina Panthers':'Charlotte', \n",
    "            'Atlanta Falcons':'Atlanta',\n",
    "            'Tampa Bay Buccaneers':'Tampa Bay Area', \n",
    "            'Los Angeles Rams*':'Los Angeles',\n",
    "            'Seattle Seahawks+':'Seattle',\n",
    "            'San Francisco 49ers':'San Francisco Bay Area', \n",
    "            'Arizona Cardinals':'Phoenix'\n",
    "            }\n",
    "\n",
    "    nfl2018 = nfl_df[nfl_df['year'] == 2018].drop([0, 5, 10, 15, 20, 25, 30, 35], axis=0)\n",
    "    nfl2018 = nfl2018[['team', 'W', 'L']]\n",
    "    nfl2018 = nfl2018.astype({'W':'float64', 'L':'float64'})\n",
    "    nfl2018['city'] = nfl2018['team'].map(nflDict)\n",
    "    nfl2018['winLoss'] = nfl2018['W'] / (nfl2018['W'] + nfl2018['L'])\n",
    "\n",
    "    nfl2018C = nfl2018[['city', 'winLoss']].groupby('city').mean()\n",
    "\n",
    "    citiesPop = cities[['Metropolitan area', 'Population (2016 est.)[8]']] \\\n",
    "                        .set_index('Metropolitan area') \\\n",
    "                        .rename(columns={'Population (2016 est.)[8]': 'population'}) \\\n",
    "                        .astype({'population':'float64'})\n",
    "\n",
    "    nflPopWinLoss = pd.merge(nfl2018C, citiesPop, how='left', left_index=True, right_index=True)\n",
    "    \n",
    "    return nflPopWinLoss\n",
    "\n",
    "def nfl_correlation(): \n",
    "    nflPopWinLoss = create_nfl()\n",
    "    \n",
    "    population_by_region = nflPopWinLoss['population'] # pass in metropolitan area population from cities\n",
    "    win_loss_by_region = nflPopWinLoss['winLoss'] # pass in win/loss ratio from nfl_df in the same order as cities[\"Metropolitan area\"]\n",
    "\n",
    "    assert len(population_by_region) == len(win_loss_by_region), \"Q4: Your lists must be the same length\"\n",
    "    assert len(population_by_region) == 29, \"Q4: There should be 29 teams being analysed for NFL\"\n",
    "\n",
    "    return stats.pearsonr(population_by_region, win_loss_by_region)[0]"
   ]
  },
  {
   "cell_type": "code",
   "execution_count": null,
   "metadata": {
    "deletable": false,
    "editable": false,
    "nbgrader": {
     "checksum": "e9415d6399aa49e3a1a60813afdefa3b",
     "grade": true,
     "grade_id": "cell-de7b148b9554dbda",
     "locked": true,
     "points": 20,
     "schema_version": 1,
     "solution": false
    }
   },
   "outputs": [],
   "source": []
  },
  {
   "cell_type": "markdown",
   "metadata": {
    "deletable": false,
    "editable": false,
    "nbgrader": {
     "checksum": "b02d5cd3273f561e4ae939bb2a41740c",
     "grade": false,
     "grade_id": "cell-97b49d8639e908c4",
     "locked": true,
     "schema_version": 1,
     "solution": false
    }
   },
   "source": [
    "## Question 5\n",
    "In this question I would like you to explore the hypothesis that **given that an area has two sports teams in different sports, those teams will perform the same within their respective sports**. How I would like to see this explored is with a series of paired t-tests (so use [`ttest_rel`](https://docs.scipy.org/doc/scipy/reference/generated/scipy.stats.ttest_rel.html)) between all pairs of sports. Are there any sports where we can reject the null hypothesis? Again, average values where a sport has multiple teams in one region. Remember, you will only be including, for each sport, cities which have teams engaged in that sport, drop others as appropriate. This question is worth 20% of the grade for this assignment."
   ]
  },
  {
   "cell_type": "code",
   "execution_count": 91,
   "metadata": {
    "deletable": false,
    "nbgrader": {
     "checksum": "6d78c961eb66f8d8c81f06d33ae8f393",
     "grade": false,
     "grade_id": "cell-92f25f44b8d1179f",
     "locked": false,
     "schema_version": 1,
     "solution": true
    }
   },
   "outputs": [],
   "source": [
    "import pandas as pd\n",
    "import numpy as np\n",
    "import scipy.stats as stats\n",
    "import re\n",
    "\n",
    "mlb_df=pd.read_csv(\"assets/mlb.csv\")\n",
    "nhl_df=pd.read_csv(\"assets/nhl.csv\")\n",
    "nba_df=pd.read_csv(\"assets/nba.csv\")\n",
    "nfl_df=pd.read_csv(\"assets/nfl.csv\")\n",
    "cities=pd.read_html(\"assets/wikipedia_data.html\")[1]\n",
    "cities=cities.iloc[:-1,[0,3,5,6,7,8]]\n",
    "\n",
    "def sports_team_performance():\n",
    "    nflPopWinLoss = create_nfl()\n",
    "    nbaPopWinLoss = create_nba()\n",
    "    nhlPopWinLoss = create_nhl()\n",
    "    mlbPopWinLoss = create_mlb()\n",
    "    \n",
    "    sports = ['NFL', 'NBA', 'NHL', 'MLB']\n",
    "    p_values = pd.DataFrame(columns=sports, index=sports)\n",
    "    \n",
    "    sportsDict = {'NFL':nflPopWinLoss, 'NBA':nbaPopWinLoss,'NHL':nhlPopWinLoss, 'MLB':mlbPopWinLoss}\n",
    "    for i in sportsDict.keys():\n",
    "        for j in sportsDict.keys():\n",
    "            if i == j:\n",
    "                p_values.loc[i, j] = np.nan\n",
    "            else:\n",
    "                mergedDf = pd.merge(sportsDict[i], sportsDict[j], how='inner', left_index=True, right_index=True,\n",
    "                                    suffixes=('_l', '_r'))\n",
    "                p_values.loc[i, j] = float(stats.ttest_rel(mergedDf['winLoss_l'], mergedDf['winLoss_r'])[1])\n",
    "    \n",
    "    assert abs(p_values.loc[\"NBA\", \"NHL\"] - 0.02) <= 1e-2, \"The NBA-NHL p-value should be around 0.02\"\n",
    "    assert abs(p_values.loc[\"MLB\", \"NFL\"] - 0.80) <= 1e-2, \"The MLB-NFL p-value should be around 0.80\"\n",
    "    return p_values.astype('float64')"
   ]
  },
  {
   "cell_type": "code",
   "execution_count": null,
   "metadata": {
    "deletable": false,
    "editable": false,
    "nbgrader": {
     "checksum": "2a596ab421a45cc01168d10e8fbb8f89",
     "grade": true,
     "grade_id": "cell-fb4b9cb5ff4570a6",
     "locked": true,
     "points": 20,
     "schema_version": 1,
     "solution": false
    }
   },
   "outputs": [],
   "source": []
  }
 ],
 "metadata": {
  "coursera": {
   "schema_names": [
    "mooc_adswpy_1_v2_assignment4"
   ]
  },
  "kernelspec": {
   "display_name": "Python 3",
   "language": "python",
   "name": "python3"
  },
  "language_info": {
   "codemirror_mode": {
    "name": "ipython",
    "version": 3
   },
   "file_extension": ".py",
   "mimetype": "text/x-python",
   "name": "python",
   "nbconvert_exporter": "python",
   "pygments_lexer": "ipython3",
   "version": "3.7.3"
  }
 },
 "nbformat": 4,
 "nbformat_minor": 4
}
